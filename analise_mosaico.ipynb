{
 "cells": [
  {
   "cell_type": "markdown",
   "id": "9a94b04f",
   "metadata": {},
   "source": [
    "# Análise inicial dos dados do Mosaico"
   ]
  },
  {
   "cell_type": "markdown",
   "id": "fba6968a",
   "metadata": {},
   "source": [
    "**Higo Thaian Pereira da Silva** [(higo.silva@redes.unb.br)](mailto:higo.silva@redes.unb.br)"
   ]
  },
  {
   "cell_type": "markdown",
   "id": "e8a4335a",
   "metadata": {},
   "source": [
    "Neste _notebook_ é apresentado uma análise inicial do dados dispostos na plataforma [Mosaico](http://sistemas.anatel.gov.br/se/public/view/b/srd.php). O objetivo da análise é encontrar erros de preenchimento nas tabelas dispostas na plataforma. Os erros podem ser **campos não preenchidos** ou **campos preenchidos incorretamente**. Os dados extraídos da plataforma estão dispostos no arquivo `./data/canais_mosaico.csv`."
   ]
  },
  {
   "cell_type": "markdown",
   "id": "3cda2a64",
   "metadata": {},
   "source": [
    "## 1.1 Leitura dos dados"
   ]
  },
  {
   "cell_type": "code",
   "execution_count": 156,
   "id": "39d9140a",
   "metadata": {},
   "outputs": [
    {
     "data": {
      "text/html": [
       "<div>\n",
       "<style scoped>\n",
       "    .dataframe tbody tr th:only-of-type {\n",
       "        vertical-align: middle;\n",
       "    }\n",
       "\n",
       "    .dataframe tbody tr th {\n",
       "        vertical-align: top;\n",
       "    }\n",
       "\n",
       "    .dataframe thead th {\n",
       "        text-align: right;\n",
       "    }\n",
       "</style>\n",
       "<table border=\"1\" class=\"dataframe\">\n",
       "  <thead>\n",
       "    <tr style=\"text-align: right;\">\n",
       "      <th></th>\n",
       "      <th>status</th>\n",
       "      <th>cnpj</th>\n",
       "      <th>entity</th>\n",
       "      <th>num_fistel</th>\n",
       "      <th>carater</th>\n",
       "      <th>finalidade</th>\n",
       "      <th>service</th>\n",
       "      <th>num_service</th>\n",
       "      <th>UF</th>\n",
       "      <th>city</th>\n",
       "      <th>local_especifico</th>\n",
       "      <th>canal</th>\n",
       "      <th>dec</th>\n",
       "      <th>frequency</th>\n",
       "      <th>class</th>\n",
       "      <th>category</th>\n",
       "      <th>latitude</th>\n",
       "      <th>longitude</th>\n",
       "      <th>erp</th>\n",
       "      <th>hci</th>\n",
       "      <th>gen_fistel</th>\n",
       "      <th>fase</th>\n",
       "      <th>data</th>\n",
       "      <th>id</th>\n",
       "      <th>channel_id</th>\n",
       "    </tr>\n",
       "  </thead>\n",
       "  <tbody>\n",
       "    <tr>\n",
       "      <th>0</th>\n",
       "      <td>TV-C1 (Canal Outorgado - Aguardando Ato de RF)</td>\n",
       "      <td>1.865469e+12</td>\n",
       "      <td>REDE DE COMUNICACOES ACREANA LTDA</td>\n",
       "      <td>5.044289e+10</td>\n",
       "      <td>P</td>\n",
       "      <td>Comercial</td>\n",
       "      <td>TV</td>\n",
       "      <td>248</td>\n",
       "      <td>AC</td>\n",
       "      <td>Cruzeiro do Sul</td>\n",
       "      <td>NaN</td>\n",
       "      <td>12.0</td>\n",
       "      <td>NaN</td>\n",
       "      <td>207.0</td>\n",
       "      <td>A</td>\n",
       "      <td>NaN</td>\n",
       "      <td>7° 37 52.00\"\"\"\" S\"\"</td>\n",
       "      <td>72° 40 12.00\"\"\"\" W\"\"</td>\n",
       "      <td>31.600</td>\n",
       "      <td>NaN</td>\n",
       "      <td>NaN</td>\n",
       "      <td>1.0</td>\n",
       "      <td>2022-08-05 15:06:51</td>\n",
       "      <td>NaN</td>\n",
       "      <td>57dbaad04f6cc</td>\n",
       "    </tr>\n",
       "    <tr>\n",
       "      <th>1</th>\n",
       "      <td>TV-C1 (Canal Outorgado - Aguardando Ato de RF)</td>\n",
       "      <td>3.211814e+12</td>\n",
       "      <td>X-MEDIAGROUP S.A.</td>\n",
       "      <td>5.041089e+10</td>\n",
       "      <td>P</td>\n",
       "      <td>Comercial</td>\n",
       "      <td>TV</td>\n",
       "      <td>248</td>\n",
       "      <td>AC</td>\n",
       "      <td>Mâncio Lima</td>\n",
       "      <td>NaN</td>\n",
       "      <td>25.0</td>\n",
       "      <td>NaN</td>\n",
       "      <td>539.0</td>\n",
       "      <td>C</td>\n",
       "      <td>NaN</td>\n",
       "      <td>7° 36 51.00\"\"\"\" S\"\"</td>\n",
       "      <td>72° 53 45.00\"\"\"\" W\"\"</td>\n",
       "      <td>1.600</td>\n",
       "      <td>NaN</td>\n",
       "      <td>NaN</td>\n",
       "      <td>1.0</td>\n",
       "      <td>2021-03-16 15:36:26</td>\n",
       "      <td>NaN</td>\n",
       "      <td>57dbaad053c60</td>\n",
       "    </tr>\n",
       "    <tr>\n",
       "      <th>2</th>\n",
       "      <td>TV-C0 (Canal Vago)</td>\n",
       "      <td>NaN</td>\n",
       "      <td>NaN</td>\n",
       "      <td>NaN</td>\n",
       "      <td>P</td>\n",
       "      <td>Comercial</td>\n",
       "      <td>TV</td>\n",
       "      <td>248</td>\n",
       "      <td>AC</td>\n",
       "      <td>Rio Branco</td>\n",
       "      <td>NaN</td>\n",
       "      <td>29.0</td>\n",
       "      <td>NaN</td>\n",
       "      <td>563.0</td>\n",
       "      <td>A</td>\n",
       "      <td>NaN</td>\n",
       "      <td>9° 58 0.00\"\"\"\" S\"\"</td>\n",
       "      <td>67° 49 0.00\"\"\"\" W\"\"</td>\n",
       "      <td>160.000</td>\n",
       "      <td>NaN</td>\n",
       "      <td>NaN</td>\n",
       "      <td>0.0</td>\n",
       "      <td>2021-11-12 15:33:57</td>\n",
       "      <td>NaN</td>\n",
       "      <td>57dbaad06f48a</td>\n",
       "    </tr>\n",
       "    <tr>\n",
       "      <th>3</th>\n",
       "      <td>TV-C0 (Canal Vago)</td>\n",
       "      <td>NaN</td>\n",
       "      <td>NaN</td>\n",
       "      <td>NaN</td>\n",
       "      <td>P</td>\n",
       "      <td>Comercial</td>\n",
       "      <td>TV</td>\n",
       "      <td>248</td>\n",
       "      <td>AC</td>\n",
       "      <td>Rio Branco</td>\n",
       "      <td>NaN</td>\n",
       "      <td>56.0</td>\n",
       "      <td>NaN</td>\n",
       "      <td>725.0</td>\n",
       "      <td>A</td>\n",
       "      <td>NaN</td>\n",
       "      <td>9° 58 29.00\"\"\"\" S\"\"</td>\n",
       "      <td>67° 48 36.00\"\"\"\" W\"\"</td>\n",
       "      <td>160.000</td>\n",
       "      <td>NaN</td>\n",
       "      <td>NaN</td>\n",
       "      <td>0.0</td>\n",
       "      <td>2021-11-12 15:33:57</td>\n",
       "      <td>NaN</td>\n",
       "      <td>57dbaad070cdc</td>\n",
       "    </tr>\n",
       "    <tr>\n",
       "      <th>4</th>\n",
       "      <td>TV-C0 (Canal Vago)</td>\n",
       "      <td>NaN</td>\n",
       "      <td>NaN</td>\n",
       "      <td>NaN</td>\n",
       "      <td>P</td>\n",
       "      <td>Comercial</td>\n",
       "      <td>TV</td>\n",
       "      <td>248</td>\n",
       "      <td>AL</td>\n",
       "      <td>Arapiraca</td>\n",
       "      <td>NaN</td>\n",
       "      <td>50.0</td>\n",
       "      <td>NaN</td>\n",
       "      <td>689.0</td>\n",
       "      <td>C</td>\n",
       "      <td>NaN</td>\n",
       "      <td>9° 45 9.00\"\"\"\" S\"\"</td>\n",
       "      <td>36° 39 40.00\"\"\"\" W\"\"</td>\n",
       "      <td>1.377</td>\n",
       "      <td>NaN</td>\n",
       "      <td>NaN</td>\n",
       "      <td>0.0</td>\n",
       "      <td>2021-03-16 15:36:26</td>\n",
       "      <td>NaN</td>\n",
       "      <td>57dbaad07252c</td>\n",
       "    </tr>\n",
       "  </tbody>\n",
       "</table>\n",
       "</div>"
      ],
      "text/plain": [
       "                                           status          cnpj  \\\n",
       "0  TV-C1 (Canal Outorgado - Aguardando Ato de RF)  1.865469e+12   \n",
       "1  TV-C1 (Canal Outorgado - Aguardando Ato de RF)  3.211814e+12   \n",
       "2                              TV-C0 (Canal Vago)           NaN   \n",
       "3                              TV-C0 (Canal Vago)           NaN   \n",
       "4                              TV-C0 (Canal Vago)           NaN   \n",
       "\n",
       "                              entity    num_fistel carater finalidade service  \\\n",
       "0  REDE DE COMUNICACOES ACREANA LTDA  5.044289e+10       P  Comercial      TV   \n",
       "1                  X-MEDIAGROUP S.A.  5.041089e+10       P  Comercial      TV   \n",
       "2                                NaN           NaN       P  Comercial      TV   \n",
       "3                                NaN           NaN       P  Comercial      TV   \n",
       "4                                NaN           NaN       P  Comercial      TV   \n",
       "\n",
       "   num_service  UF             city local_especifico  canal  dec  frequency  \\\n",
       "0          248  AC  Cruzeiro do Sul              NaN   12.0  NaN      207.0   \n",
       "1          248  AC      Mâncio Lima              NaN   25.0  NaN      539.0   \n",
       "2          248  AC       Rio Branco              NaN   29.0  NaN      563.0   \n",
       "3          248  AC       Rio Branco              NaN   56.0  NaN      725.0   \n",
       "4          248  AL        Arapiraca              NaN   50.0  NaN      689.0   \n",
       "\n",
       "  class category             latitude             longitude      erp  hci  \\\n",
       "0     A      NaN  7° 37 52.00\"\"\"\" S\"\"  72° 40 12.00\"\"\"\" W\"\"   31.600  NaN   \n",
       "1     C      NaN  7° 36 51.00\"\"\"\" S\"\"  72° 53 45.00\"\"\"\" W\"\"    1.600  NaN   \n",
       "2     A      NaN   9° 58 0.00\"\"\"\" S\"\"   67° 49 0.00\"\"\"\" W\"\"  160.000  NaN   \n",
       "3     A      NaN  9° 58 29.00\"\"\"\" S\"\"  67° 48 36.00\"\"\"\" W\"\"  160.000  NaN   \n",
       "4     C      NaN   9° 45 9.00\"\"\"\" S\"\"  36° 39 40.00\"\"\"\" W\"\"    1.377  NaN   \n",
       "\n",
       "   gen_fistel  fase                 data   id     channel_id  \n",
       "0         NaN   1.0  2022-08-05 15:06:51  NaN  57dbaad04f6cc  \n",
       "1         NaN   1.0  2021-03-16 15:36:26  NaN  57dbaad053c60  \n",
       "2         NaN   0.0  2021-11-12 15:33:57  NaN  57dbaad06f48a  \n",
       "3         NaN   0.0  2021-11-12 15:33:57  NaN  57dbaad070cdc  \n",
       "4         NaN   0.0  2021-03-16 15:36:26  NaN  57dbaad07252c  "
      ]
     },
     "execution_count": 156,
     "metadata": {},
     "output_type": "execute_result"
    }
   ],
   "source": [
    "import numpy as np\n",
    "import pandas as pd\n",
    "import matplotlib.pyplot as plt\n",
    "from itertools import cycle\n",
    "\n",
    "# Import data\n",
    "pd.set_option('display.max_columns', None) \n",
    "data_frame = pd.read_csv(\"./data/canais_mosaico.csv\", sep = ';', dtype={'dec':'str', 'hci':'str', 'id':'str'})\n",
    "data_frame.head()"
   ]
  },
  {
   "cell_type": "markdown",
   "id": "709a4003",
   "metadata": {},
   "source": [
    "## 1.2 Análise da coluna `cnpj`\n",
    "\n",
    "O CNPJ é composto por 14 dígitos, no formato XX.XXX.XXX/YYYY-ZZ, em que os oito primeiros números são a raiz de identificação da empresa, os quatro dígitos após a barra representam a unidade de atuação e os dois últimos representam o dígito verificador. Na tabela de dados, o CNPJ não contém os símbolos separadores (. e /). Uma sequência de dígitos com comprimento diferente de 14 no campo **CNPJ** configura um erro de preenchimento.\n",
    "\n",
    "A seguir, os dados de CNPJ são analisados e são calculados os números de campos vazios e de campos preenchidos com valores de formato adequado. É importante ressaltar que a correta formatação dos CNPJs não implica em sua existência."
   ]
  },
  {
   "cell_type": "code",
   "execution_count": 174,
   "id": "2ae52ddd",
   "metadata": {
    "scrolled": false
   },
   "outputs": [
    {
     "name": "stdout",
     "output_type": "stream",
     "text": [
      "De um total de 41807 CNPJs, constam 10754 CNPJs não preenchidos (25.72%) e 17264 com 14 dígitos (41.29%). Dos 17264 CNPJs com 14 dígitos, 17264 têm formato adequado (100.00%).\n"
     ]
    },
    {
     "data": {
      "text/plain": [
       "<matplotlib.legend.Legend at 0x7f1fc7ff1dc0>"
      ]
     },
     "execution_count": 174,
     "metadata": {},
     "output_type": "execute_result"
    },
    {
     "data": {
      "image/png": "[encoded data removed]",
      "text/plain": [
       "<Figure size 500x500 with 1 Axes>"
      ]
     },
     "metadata": {},
     "output_type": "display_data"
    }
   ],
   "source": [
    "LENGTH_CNPJ = 14\n",
    "\n",
    "# Função para validar o formato do CNPJ\n",
    "def is_cnpj_valido(cnpj: str) -> int:\n",
    "    if len(cnpj) != LENGTH_CNPJ:\n",
    "        return 0\n",
    "\n",
    "    cnpj_r = cnpj[::-1]\n",
    "    for i in range(2, 0, -1):\n",
    "        cnpj_enum = zip(cycle(range(2, 10)), cnpj_r[i:])\n",
    "        dv = sum(map(lambda x: int(x[1]) * x[0], cnpj_enum)) * 10 % 11\n",
    "        if cnpj_r[i - 1:i] != str(dv % 10):\n",
    "            return 1\n",
    "\n",
    "    return True\n",
    "\n",
    "\n",
    "# Fill empty values with '0' and convert column to int\n",
    "data_frame['cnpj'].fillna(0, inplace=True)\n",
    "data_frame = data_frame.astype({'cnpj':'int'})\n",
    "\n",
    "# Compute the total number of fields\n",
    "num_total_cnpjs = len(data_frame['cnpj'])\n",
    "# Compute the number of empty CNPJs\n",
    "num_empty_cnpjs = data_frame['cnpj'].value_counts()[0]\n",
    "# Compute the number of CNPJs with 14 digits\n",
    "num_formated_cnpjs = data_frame['cnpj'].astype(str).str.len().value_counts()[LENGTH_CNPJ]\n",
    "# Calculates the number of CNPJs with proper format\n",
    "num_valid_cnpjs = data_frame['cnpj'].astype(str).apply(is_cnpj_valido).sum()\n",
    "# Empty percentual\n",
    "empty_percentual = num_empty_cnpjs/num_total_cnpjs\n",
    "\n",
    "print(f\"De um total de {num_total_cnpjs} CNPJs,\" \\\n",
    "      f\" constam {num_empty_cnpjs} CNPJs não preenchidos ({empty_percentual * 100:.2f}%) e \" \\\n",
    "      f\"{num_formated_cnpjs} com 14 dígitos ({num_formated_cnpjs/num_total_cnpjs * 100:.2f}%).\" \\\n",
    "      f\" Dos {num_formated_cnpjs} CNPJs com 14 dígitos, {num_valid_cnpjs} têm formato adequado \" \\\n",
    "      f\"({num_valid_cnpjs/num_formated_cnpjs * 100:.2f}%).\")\n",
    "\n",
    "# Calculate the number of digits of cnpjs\n",
    "cnpj_num_digits = data_frame['cnpj'].astype(str).str.len().value_counts().tolist()\n",
    "cnpj_num_digits_index = data_frame['cnpj'].astype(str).str.len().value_counts().keys().tolist()\n",
    "\n",
    "fig = plt.figure(figsize=(5,5))\n",
    "plt.bar( cnpj_num_digits_index, cnpj_num_digits, color='g', label='Formatação inconsistente' )\n",
    "plt.bar( cnpj_num_digits_index[cnpj_num_digits_index.index(1)], cnpj_num_digits[cnpj_num_digits_index.index(1)], color='r', label='Campo vazio' )\n",
    "plt.bar( cnpj_num_digits_index[cnpj_num_digits_index.index(LENGTH_CNPJ)], cnpj_num_digits[cnpj_num_digits_index.index(LENGTH_CNPJ)], color='b', label='Formatação adequada' )\n",
    "\n",
    "plt.axvline(x=2, color='r', ls='--', lw=2)\n",
    "plt.xlabel('Número de dígitos preenchidos no campo CNPJ')\n",
    "plt.ylabel('Frequência do número de dígitos')\n",
    "plt.legend(loc=\"upper center\")"
   ]
  },
  {
   "cell_type": "markdown",
   "id": "3ab0d03d",
   "metadata": {},
   "source": [
    "## 1.3 Análise da coluna `num_fistel`\n",
    "\n",
    "O **número do Fistel** é um código numérico **composto de onze dígitos** que identifica a autorização que o usuário possui para determinado serviço. Assim, cada outorga, equivalerá a um número de Fistel [[Fonte]](https://www.sertsc.org.br/site/taxas-fistel-que-vencerao-em-31-de-marco-ja-estao-disponiveis-no-site-da-anatel/).\n",
    "\n",
    "Devido a falta de informações acerca da formatação do número do Fistel, a checagem de erros deste campo se baseia apenas na contagem de campos vazios e de campos com um número de dígitos inadequado.\n",
    "\n",
    "\n"
   ]
  },
  {
   "cell_type": "code",
   "execution_count": 188,
   "id": "03d4726c",
   "metadata": {
    "scrolled": false
   },
   "outputs": [
    {
     "name": "stdout",
     "output_type": "stream",
     "text": [
      "De um total de 41807 números de Fistel, constam 10756 não preenchidos (25.72%) e 28130 com 11 dígitos (67.29%).Ou seja, no mínimo 13677 valores (32.71%) foram preenchidos de forma errada.\n"
     ]
    },
    {
     "data": {
      "text/plain": [
       "<matplotlib.legend.Legend at 0x7f1fc7d85160>"
      ]
     },
     "execution_count": 188,
     "metadata": {},
     "output_type": "execute_result"
    },
    {
     "data": {
      "image/png": "[encoded data removed]",
      "text/plain": [
       "<Figure size 500x500 with 1 Axes>"
      ]
     },
     "metadata": {},
     "output_type": "display_data"
    }
   ],
   "source": [
    "LENGTH_FISTEL = 11\n",
    "\n",
    "\n",
    "# Fill empty values with '0' and convert column to int\n",
    "data_frame['num_fistel'].fillna(0, inplace=True)\n",
    "data_frame = data_frame.astype({'num_fistel':'int'})\n",
    "\n",
    "# Compute the total number of fields\n",
    "num_total_fistels = len(data_frame['num_fistel'])\n",
    "# Compute the number of empty Fistel's numbers\n",
    "num_empty_fistels = data_frame['num_fistel'].value_counts()[0]\n",
    "# Compute the number of Fistels with 11 digits\n",
    "num_formated_fistels = data_frame['num_fistel'].astype(str).str.len().value_counts()[LENGTH_FISTEL]\n",
    "# Empty percentual\n",
    "empty_percentual = num_empty_cnpjs/num_total_cnpjs\n",
    "error_percentual = (num_total_cnpjs - num_formated_fistels) / num_total_cnpjs\n",
    "\n",
    "print(f\"De um total de {num_total_fistels} números de Fistel,\" \\\n",
    "      f\" constam {num_empty_fistels} não preenchidos ({empty_percentual * 100:.2f}%) e \" \\\n",
    "      f\"{num_formated_fistels} com 11 dígitos ({num_formated_fistels/num_total_fistels * 100:.2f}%).\" \\\n",
    "      f\"Ou seja, no mínimo {num_total_fistels - num_formated_fistels} valores ({error_percentual * 100:.2f}%) foram preenchidos de forma errada.\" )\n",
    "\n",
    "# Calculate the number of digits of cnpjs\n",
    "fistel_num_digits = data_frame['num_fistel'].astype(str).str.len().value_counts().tolist()\n",
    "fistel_num_digits_index = data_frame['num_fistel'].astype(str).str.len().value_counts().keys().tolist()\n",
    "\n",
    "fig = plt.figure(figsize=(5,5))\n",
    "plt.bar( fistel_num_digits_index, fistel_num_digits, color='g', label='Formatação inconsistente' )\n",
    "plt.bar( fistel_num_digits_index[fistel_num_digits_index.index(1)], fistel_num_digits[fistel_num_digits_index.index(1)], color='r', label='Campo vazio' )\n",
    "plt.bar( fistel_num_digits_index[fistel_num_digits_index.index(LENGTH_FISTEL)], fistel_num_digits[fistel_num_digits_index.index(LENGTH_FISTEL)], color='b', label='Formatação adequada' )\n",
    "\n",
    "plt.axvline(x=2, color='r', ls='--', lw=2)\n",
    "plt.xlabel('Número de dígitos preenchidos no campo num_fistel')\n",
    "plt.ylabel('Frequência do número de dígitos')\n",
    "plt.legend(loc=\"upper center\")\n",
    "\n"
   ]
  },
  {
   "cell_type": "markdown",
   "id": "79116e87",
   "metadata": {},
   "source": [
    "## 1.3 Análise da coluna `carater`\n"
   ]
  },
  {
   "cell_type": "code",
   "execution_count": 209,
   "id": "ea908f3b",
   "metadata": {
    "scrolled": false
   },
   "outputs": [
    {
     "data": {
      "text/plain": [
       "P    32682\n",
       "S     9125\n",
       "Name: carater, dtype: int64"
      ]
     },
     "execution_count": 209,
     "metadata": {},
     "output_type": "execute_result"
    }
   ],
   "source": [
    "data_frame['carater'].value_counts()"
   ]
  },
  {
   "cell_type": "markdown",
   "id": "341c563c",
   "metadata": {},
   "source": [
    "O campo `carater` está completamente preenchido com caracteres `P` ou `S`."
   ]
  },
  {
   "cell_type": "code",
   "execution_count": 211,
   "id": "c471187b",
   "metadata": {
    "scrolled": false
   },
   "outputs": [
    {
     "data": {
      "text/plain": [
       "Text(0.5, 1.0, 'Frequência de ocorrência dos valores no campo carater')"
      ]
     },
     "execution_count": 211,
     "metadata": {},
     "output_type": "execute_result"
    },
    {
     "data": {
      "image/png": "[encoded data removed]",
      "text/plain": [
       "<Figure size 500x500 with 1 Axes>"
      ]
     },
     "metadata": {},
     "output_type": "display_data"
    }
   ],
   "source": [
    "data_frame['carater'].value_counts()\n",
    "carater_count = data_frame['carater'].value_counts()\n",
    "\n",
    "fig = plt.figure(figsize=(5,5))\n",
    "plt.bar( carater_count.index, ( carater_count.values / carater_count.values.sum() ) * 100, color='r', label='Formatação inconsistente' )\n",
    "plt.xlabel('Valores do campo')\n",
    "plt.ylabel('Frequência')\n",
    "plt.title('Frequência de ocorrência dos valores no campo carater')"
   ]
  },
  {
   "cell_type": "markdown",
   "id": "f2b8133a",
   "metadata": {},
   "source": [
    "## 1.4 Análise da coluna `finalidade`"
   ]
  },
  {
   "cell_type": "code",
   "execution_count": 212,
   "id": "64ff5c4c",
   "metadata": {
    "scrolled": true
   },
   "outputs": [
    {
     "data": {
      "text/plain": [
       "Comercial             30199\n",
       "0° 00 0.00\"\"\"\" N\"\"     5938\n",
       "Publica                3742\n",
       "Educativo              1920\n",
       "Educativo publico         6\n",
       "0° 00 0.00\"\" N\"\"          2\n",
       "Name: finalidade, dtype: int64"
      ]
     },
     "execution_count": 212,
     "metadata": {},
     "output_type": "execute_result"
    }
   ],
   "source": [
    "data_frame['finalidade'].value_counts()"
   ]
  },
  {
   "cell_type": "markdown",
   "id": "082e416e",
   "metadata": {},
   "source": [
    "Percebe-se que nesse campo há quatro prováveis **finalidades**:\n",
    "- Comercial;\n",
    "- Pública (`Publica`);\n",
    "- Educativo;\n",
    "- Educativo público (`Educativo publico`).\n",
    "\n",
    "Entretanto, percebe-se que existe uma alta ocorrência (5938) de um preenchimento com uma `string` de coordenada (`0° 00 0.00\"\"\"\" N\"\"`)."
   ]
  }
 ],
 "metadata": {
  "kernelspec": {
   "display_name": "Python 3 (ipykernel)",
   "language": "python",
   "name": "python3"
  },
  "language_info": {
   "codemirror_mode": {
    "name": "ipython",
    "version": 3
   },
   "file_extension": ".py",
   "mimetype": "text/x-python",
   "name": "python",
   "nbconvert_exporter": "python",
   "pygments_lexer": "ipython3",
   "version": "3.9.16"
  }
 },
 "nbformat": 4,
 "nbformat_minor": 5
}
